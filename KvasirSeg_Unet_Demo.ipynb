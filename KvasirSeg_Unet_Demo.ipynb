{
  "cells": [
    {
      "cell_type": "markdown",
      "metadata": {
        "id": "AZBQe60FButl"
      },
      "source": [
        "# 🚑 Kvasir-SEG U-Net Demo\n",
        "\n",
        "This notebook demonstrates how to load and run inference using a pretrained **U-Net** model on the **Kvasir-SEG** dataset."
      ],
      "id": "AZBQe60FButl"
    },
    {
      "cell_type": "code",
      "execution_count": null,
      "metadata": {
        "id": "Fl_i-67eButm"
      },
      "outputs": [],
      "source": [
        "# ✅ Install dependencies\n",
        "!pip install torch torchvision albumentations opencv-python matplotlib tqdm scikit-learn"
      ],
      "id": "Fl_i-67eButm"
    },
    {
      "cell_type": "code",
      "execution_count": null,
      "metadata": {
        "id": "xAeafkorButn"
      },
      "outputs": [],
      "source": [
        "# 📁 Clone GitHub Repo\n",
        "!git clone https://github.com/GaurangTari4/KvasirSeg-Unet.git\n",
        "%cd KvasirSeg-Unet"
      ],
      "id": "xAeafkorButn"
    },
    {
      "cell_type": "code",
      "execution_count": null,
      "metadata": {
        "id": "NDfJ2RBPButn"
      },
      "outputs": [],
      "source": [
        "# 📦 Download Dataset\n",
        "from dataset.download import download_and_extract\n",
        "download_and_extract()"
      ],
      "id": "NDfJ2RBPButn"
    },
    {
      "cell_type": "code",
      "execution_count": null,
      "metadata": {
        "id": "kA76IxfcButo"
      },
      "outputs": [],
      "source": [
        "# 🔽 Download pretrained model\n",
        "!gdown 1PlE0Ba9Rt7YXORYtN3BBpuCg6edOQCxD -O models/unet_kvasirseg.pth"
      ],
      "id": "kA76IxfcButo"
    },
    {
      "cell_type": "code",
      "execution_count": null,
      "metadata": {
        "id": "k0sht4TsButo"
      },
      "outputs": [],
      "source": [
        "# 📊 Import required modules\n",
        "import torch\n",
        "from dataset.loader import get_dataloader\n",
        "from model.unet import UNet\n",
        "from utils.visualize import plot_prediction\n",
        "\n",
        "device = torch.device(\"cuda\" if torch.cuda.is_available() else \"cpu\")\n",
        "\n",
        "# Load validation data\n",
        "val_loader = get_dataloader(\"./data\", batch_size=4, split='val')\n",
        "\n",
        "# Load model\n",
        "model = UNet(in_channels=3, out_channels=1)\n",
        "model.load_state_dict(torch.load(\"models/unet_kvasirseg.pth\", map_location=device))\n",
        "model = model.to(device)\n",
        "model.eval()"
      ],
      "id": "k0sht4TsButo"
    },
    {
      "cell_type": "code",
      "execution_count": null,
      "metadata": {
        "id": "ja2QJfnbButo"
      },
      "outputs": [],
      "source": [
        "# 🔍 Run Inference on a few samples\n",
        "import torch\n",
        "\n",
        "with torch.no_grad():\n",
        "    inputs, masks = next(iter(val_loader))\n",
        "    inputs, masks = inputs.to(device), masks.to(device)\n",
        "    preds = model(inputs)\n",
        "    plot_prediction(inputs[:4].cpu(), masks[:4].cpu(), preds[:4].cpu())"
      ],
      "id": "ja2QJfnbButo"
    }
  ],
  "metadata": {
    "kernelspec": {
      "display_name": "Python 3",
      "name": "python3"
    },
    "language_info": {
      "name": "python",
      "version": ""
    },
    "colab": {
      "provenance": [],
      "gpuType": "T4"
    },
    "accelerator": "GPU"
  },
  "nbformat": 4,
  "nbformat_minor": 5
}