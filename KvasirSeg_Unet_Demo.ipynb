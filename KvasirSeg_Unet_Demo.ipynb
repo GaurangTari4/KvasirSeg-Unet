{
 "cells": [
  {
   "cell_type": "markdown",
   "metadata": {},
   "source": [
    "# 🚑 Kvasir-SEG U-Net Demo\n",
    "\n",
    "This notebook demonstrates how to load and run inference using a pretrained **U-Net** model on the **Kvasir-SEG** dataset."
   ]
  },
  {
   "cell_type": "code",
   "execution_count": null,
   "metadata": {},
   "outputs": [],
   "source": [
    "# ✅ Install dependencies\n",
    "!pip install torch torchvision albumentations opencv-python matplotlib tqdm scikit-learn"
   ]
  },
  {
   "cell_type": "code",
   "execution_count": null,
   "metadata": {},
   "outputs": [],
   "source": [
    "# 📁 Clone GitHub Repo\n",
    "!git clone https://github.com/GaurangTari4/KvasirSeg-Unet.git\n",
    "%cd KvasirSeg-Unet"
   ]
  },
  {
   "cell_type": "code",
   "execution_count": null,
   "metadata": {},
   "outputs": [],
   "source": [
    "# 📦 Download Dataset\n",
    "from dataset.download import download_and_extract_kvasir\n",
    "download_and_extract_kvasir(\"./dataset\")"
   ]
  },
  {
   "cell_type": "code",
   "execution_count": null,
   "metadata": {},
   "outputs": [],
   "source": [
    "# 🔽 Download pretrained model\n",
    "!gdown --id 1J0TW0M7q_BW0M3Wv7NSnNdrwDuL9B8kN -O models/unet_kvasirseg.pth"
   ]
  },
  {
   "cell_type": "code",
   "execution_count": null,
   "metadata": {},
   "outputs": [],
   "source": [
    "# 📊 Import required modules\n",
    "import torch\n",
    "from dataset.loader import get_dataloader\n",
    "from model.unet import UNet\n",
    "from utils.visualize import plot_prediction\n",
    "\n",
    "device = torch.device(\"cuda\" if torch.cuda.is_available() else \"cpu\")\n",
    "\n",
    "# Load validation data\n",
    "val_loader = get_dataloader(\"./dataset\", batch_size=4, split='val')\n",
    "\n",
    "# Load model\n",
    "model = UNet(in_channels=3, out_channels=1)\n",
    "model.load_state_dict(torch.load(\"models/unet_kvasirseg.pth\", map_location=device))\n",
    "model = model.to(device)\n",
    "model.eval()"
   ]
  },
  {
   "cell_type": "code",
   "execution_count": null,
   "metadata": {},
   "outputs": [],
   "source": [
    "# 🔍 Run Inference on a few samples\n",
    "import torch\n",
    "\n",
    "with torch.no_grad():\n",
    "    inputs, masks = next(iter(val_loader))\n",
    "    inputs, masks = inputs.to(device), masks.to(device)\n",
    "    preds = model(inputs)\n",
    "    plot_prediction(inputs[:4].cpu(), masks[:4].cpu(), preds[:4].cpu())"
   ]
  }
 ],
 "metadata": {
  "kernelspec": {
   "display_name": "Python 3",
   "language": "python",
   "name": "python3"
  },
  "language_info": {
   "name": "python",
   "version": ""
  }
 },
 "nbformat": 4,
 "nbformat_minor": 5
}
