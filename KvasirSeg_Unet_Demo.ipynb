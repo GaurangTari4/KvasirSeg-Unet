{
 "cells": [
  {
   "cell_type": "markdown",
   "metadata": {},
   "source": [
    "# 🔍 Kvasir-SEG U-Net Demo\n",
    "\n",
    "This notebook demonstrates how to download the Kvasir-SEG dataset, define a U-Net segmentation model, and perform inference using a pretrained model.\n",
    "\n",
    "📌 If you haven't already, make sure the file structure from the GitHub repo is accessible or clone the repo."
   ]
  },
  {
   "cell_type": "code",
   "execution_count": 1,
   "metadata": {},
   "outputs": [],
   "source": [
    "# Clone the repo (if not already cloned)\n",
    "!git clone https://github.com/GaurangTari4/KvasirSeg-Unet.git\n",
    "%cd KvasirSeg-Unet"
   ]
  },
  {
   "cell_type": "code",
   "execution_count": 2,
   "metadata": {},
   "outputs": [],
   "source": [
    "!pip install -r requirements.txt"
   ]
  },
  {
   "cell_type": "code",
   "execution_count": 3,
   "metadata": {},
   "outputs": [],
   "source": [
    "from dataset.download import download_and_extract_kvasir\n",
    "\n",
    "download_and_extract_kvasir()"
   ]
  },
  {
   "cell_type": "code",
   "execution_count": 4,
   "metadata": {},
   "outputs": [],
   "source": [
    "import torch\n",
    "from model.unet import UNet\n",
    "from dataset.loader import load_dataset, KvasirSegDataset\n",
    "from torch.utils.data import DataLoader\n",
    "import os\n",
    "\n",
    "DEVICE = torch.device(\"cuda\" if torch.cuda.is_available() else \"cpu\")\n",
    "\n",
    "# Load dataset\n",
    "images, masks = load_dataset(\"kvasir-seg/images\", \"kvasir-seg/masks\")\n",
    "dataset = KvasirSegDataset(images, masks, transform=None)\n",
    "loader = DataLoader(dataset, batch_size=1, shuffle=True)\n",
    "\n",
    "# Load model\n",
    "model = UNet(in_channels=3, out_channels=1).to(DEVICE)\n",
    "model.load_state_dict(torch.load(\"models/unet_kvasirseg.pth\", map_location=DEVICE))\n",
    "model.eval()"
   ]
  },
  {
   "cell_type": "code",
   "execution_count": 5,
   "metadata": {},
   "outputs": [],
   "source": [
    "from utils.visualize import plot_prediction\n",
    "\n",
    "inputs, masks = next(iter(loader))\n",
    "inputs, masks = inputs.to(DEVICE), masks.to(DEVICE)\n",
    "with torch.no_grad():\n",
    "    outputs = torch.sigmoid(model(inputs))\n",
    "\n",
    "plot_prediction(inputs.cpu(), masks.cpu(), outputs.cpu())"
   ]
  },
  {
   "cell_type": "markdown",
   "metadata": {},
   "source": [
    "### ✅ Conclusion\n",
    "\n",
    "That's it! You can now test different images, fine-tune the model, or run full evaluations."
   ]
  }
 ],
 "metadata": {
  "kernelspec": {
   "display_name": "Python 3",
   "language": "python",
   "name": "python3"
  },
  "language_info": {
   "codemirror_mode": {
    "name": "ipython",
    "version": 3
   },
   "file_extension": ".py",
   "mimetype": "text/x-python",
   "name": "python",
   "nbconvert_exporter": "python",
   "version": "3.7.13"
  }
 },
 "nbformat": 4,
 "nbformat_minor": 5
}
